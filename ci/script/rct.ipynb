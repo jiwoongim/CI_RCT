{
 "cells": [
  {
   "cell_type": "markdown",
   "id": "1fb1d608-7b57-47da-8a19-b218e823be7a",
   "metadata": {},
   "source": [
    "# Lab 3 - Online vs In-person class \n",
    "\n",
    "### In 2020, the pandemic led to remote work and online classes. There's a debate about whether these changes will stick. Online learning has clear advantages, it's cost-effective, leveraging digital resources and content from global sources. However, there's a lingering question about its impact on students' academic performance: is it positive or negative?\"\n",
    "\n",
    "The details of the codes are available: https://github.com/jiwoongim/Causal-Inference-Tutorial/tree/dji/lab3"
   ]
  },
  {
   "cell_type": "code",
   "execution_count": 5,
   "id": "f3d8ef21-b7e9-40c2-b6fe-dd8d24622b35",
   "metadata": {},
   "outputs": [
    {
     "name": "stdout",
     "output_type": "stream",
     "text": [
      "     gender  asian  black  hawaiian  hispanic  unknown  white  format_ol  \\\n",
      "0         0    0.0    0.0       0.0       0.0      0.0    1.0          0   \n",
      "1         1    0.0    0.0       0.0       0.0      0.0    1.0          0   \n",
      "2         1    0.0    0.0       0.0       0.0      0.0    1.0          0   \n",
      "3         1    0.0    0.0       0.0       0.0      0.0    1.0          0   \n",
      "4         1    0.0    0.0       0.0       0.0      0.0    1.0          1   \n",
      "..      ...    ...    ...       ...       ...      ...    ...        ...   \n",
      "318       0    0.0    0.0       0.0       0.0      0.0    1.0          0   \n",
      "319       1    NaN    NaN       NaN       NaN      NaN    NaN          1   \n",
      "320       0    NaN    NaN       NaN       NaN      NaN    NaN          1   \n",
      "321       1    NaN    NaN       NaN       NaN      NaN    NaN          1   \n",
      "322       1    0.0    0.0       0.0       0.0      0.0    1.0          0   \n",
      "\n",
      "     format_blended  falsexam  \n",
      "0               0.0  63.29997  \n",
      "1               0.0  79.96000  \n",
      "2               1.0  83.37000  \n",
      "3               1.0  90.01994  \n",
      "4               0.0  83.30000  \n",
      "..              ...       ...  \n",
      "318             1.0  68.36000  \n",
      "319             0.0  70.05000  \n",
      "320             0.0  66.69000  \n",
      "321             0.0  83.29997  \n",
      "322             1.0  96.68000  \n",
      "\n",
      "[323 rows x 10 columns]\n"
     ]
    }
   ],
   "source": [
    "from ci.util import get_dataset\n",
    "dataset_name = \"../data/online_classroom\"\n",
    "dataset = get_dataset(dataset_name)\n",
    "print(dataset.data_df)"
   ]
  },
  {
   "cell_type": "markdown",
   "id": "c921a3b2-946e-4ed4-96e5-9ecc563da985",
   "metadata": {},
   "source": [
    "### Randomized classes so that some students were assigned to have face-to-face lectures, others to have only online lessons, and a third group to have a blended format of both online and face-to-face classes.\n",
    "\n",
    "### Action assignment\n",
    "#### Group 1: online class \n",
    "#### Group 2: inclasss\n",
    "#### Group 3: both online & in-class\n"
   ]
  },
  {
   "cell_type": "code",
   "execution_count": 8,
   "id": "f2964cb2-19a5-4439-a2f6-c75dff2fc2c0",
   "metadata": {},
   "outputs": [
    {
     "name": "stdout",
     "output_type": "stream",
     "text": [
      "...Computing Treatments Stats\n",
      "Number of online class: 94\n",
      "Number of inclass: 120\n",
      "Number of blended: 109\n"
     ]
    }
   ],
   "source": [
    "print(\"...Computing Treatments Stats\")\n",
    "dataset.get_treatment_stats()\n"
   ]
  },
  {
   "cell_type": "markdown",
   "id": "bd3e336e-6029-4971-ab2f-aec525224b68",
   "metadata": {},
   "source": [
    "### Outcome - standard exam at the end of the semester.\n",
    "\n",
    "\\begin{align*}\n",
    "\\large\n",
    "\\mathbb{E}[Y[a]] &= \\sum_x p(y|A=a,x)p(x)\\\\\n",
    "                &= \\frac{1}{n} \\sum_x p(y|A=a,x)\n",
    "\\end{align*}\n",
    "\n",
    "#### Just group by action and average the outcomes."
   ]
  },
  {
   "cell_type": "markdown",
   "id": "014fbd0b-69e6-4b43-a015-dd2fd587249a",
   "metadata": {},
   "source": [
    "### Potential Outcomes\n",
    "\n",
    "\\begin{align*}\n",
    "\\large \n",
    "\\mathbb{E}[Y[\\text{'in-person class'}]] = 78.54\\\\\n",
    "\\large \n",
    "\\mathbb{E}[Y[\\text{'online class'}]] = 73.63\\\\\n",
    "\\large  \n",
    "\\mathbb{E}[Y[\\text{'blended class'}]] = 77.09\\\\\n",
    "\\end{align*}\n"
   ]
  },
  {
   "cell_type": "code",
   "execution_count": 25,
   "id": "b33cdc98-93d5-4c98-98c8-f3d91c250a19",
   "metadata": {},
   "outputs": [
    {
     "name": "stdout",
     "output_type": "stream",
     "text": [
      "...Computing Potential Outcome\n",
      "                gender     asian     black  hawaiian  hispanic   unknown  \\\n",
      "class_format                                                               \n",
      "blended       0.550459  0.217949  0.102564  0.025641  0.012821  0.012821   \n",
      "inclass       0.633333  0.202020  0.070707  0.000000  0.010101  0.000000   \n",
      "online        0.542553  0.228571  0.028571  0.014286  0.028571  0.000000   \n",
      "\n",
      "                 white  format_ol  format_blended   falsexam  \n",
      "class_format                                                  \n",
      "blended       0.628205        0.0             1.0  77.093731  \n",
      "inclass       0.717172        0.0             0.0  78.547485  \n",
      "online        0.700000        1.0             0.0  73.635263  \n"
     ]
    }
   ],
   "source": [
    "print(\"...Computing Potential Outcome\")\n",
    "potential_outcomes = dataset.get_potential_outcomes_by_treatment()\n",
    "print(potential_outcomes)"
   ]
  },
  {
   "cell_type": "markdown",
   "id": "6f98c68c-fa5f-449b-8284-5cb2edc44d37",
   "metadata": {},
   "source": [
    "### What is the effect of having online classes?\n",
    "\\begin{align*}\n",
    "    \\large \n",
    "    ATE &= \\mathbb{E}[Y[\\text{'online class'}]] - \\mathbb{E}[Y[\\text{'in-person class'}]] = -4.912\\\\\n",
    "    \\large\n",
    "    ATE &= \\mathbb{E}[Y[\\text{'online class'}]] - \\mathbb{E}[Y[\\text{'blende class'}]] = -3.457\n",
    "\\end{align*}\n"
   ]
  },
  {
   "cell_type": "code",
   "execution_count": 24,
   "id": "eb45fb6d-3378-4579-9ed5-ee6e4c157a7f",
   "metadata": {},
   "outputs": [
    {
     "name": "stdout",
     "output_type": "stream",
     "text": [
      "...Computing ATE\n",
      "... ATE: -4.912221498226955\n"
     ]
    }
   ],
   "source": [
    "print(\"...Computing ATE\")\n",
    "po_online = potential_outcomes.loc[\"online\"][\"falsexam\"]\n",
    "po_inclass = potential_outcomes.loc[\"inclass\"][\"falsexam\"]\n",
    "ate = po_online - po_inclass\n",
    "print(f\"... ATE: {ate}\")"
   ]
  },
  {
   "cell_type": "markdown",
   "id": "a93d4ea3-4dd9-4cf8-9da5-b1e19a83b4ef",
   "metadata": {},
   "source": [
    "### Overall, online classes have a negative effect!\n",
    "\n",
    "\n",
    "# Variance Matters Evenif Actions are Randomized"
   ]
  },
  {
   "cell_type": "markdown",
   "id": "3bc66617-e6d9-418a-bf83-36fb7a43cbe0",
   "metadata": {},
   "source": [
    "## Discussion\n",
    "### Let's continue to assume that students have chosen the courses randomly between \"in-person classes\" vs. \"online classes\".\n",
    "### However, suppose that the number of students in \"in-person class\" is far less than the number of students in \"online class\"."
   ]
  },
  {
   "cell_type": "markdown",
   "id": "93472fae-0e51-4506-a54e-23612903e2e7",
   "metadata": {},
   "source": [
    "### Q: Could the performance of standard test scores change depending on the number of students?\n",
    "\n",
    "#### Possibilities:\n",
    "1. The teacher can pay more attention to each student when the number of students are less.\n",
    "2. When there are a little number of students, the variance of the scores can highly vary. So, the average score can also vary by chance."
   ]
  },
  {
   "cell_type": "markdown",
   "id": "d8ac752d-80ae-4156-9b0f-863c61fc5004",
   "metadata": {},
   "source": [
    "### Ironically, if the number of students is high, then the variance reduces but the average performance can decrease.\n",
    "\n",
    "#### Maybe the right setup is to have \"online class\" as control, and \"(in-person, # students)\" as treatments. Find the diminishing return point from the bias-variance tradeoff."
   ]
  },
  {
   "cell_type": "markdown",
   "id": "7d3c68a3-2e4f-4bad-8544-df5a12476435",
   "metadata": {},
   "source": [
    "## Back to real online classroom example\n",
    "\n",
    "\\begin{align*}\n",
    "\\large\n",
    "\\text{standard error}: \\hat{se} = \\sqrt{\\frac{1}{n-1}\\sum^n_{i=1}(x_i-\\bar{x})^2}\\\\\n",
    "\\large\n",
    "\\text{confidence interval}: (\\hat{\\mu}-2\\hat{se}, \\hat{mu}+2\\hat{se})\n",
    "\\end{align*}"
   ]
  },
  {
   "cell_type": "code",
   "execution_count": 26,
   "id": "42375438-73ae-4899-9e89-0ffeb0b2c2be",
   "metadata": {},
   "outputs": [
    {
     "name": "stdout",
     "output_type": "stream",
     "text": [
      "95% CI for Online: (70.62243066639022, 76.64809550382253)\n",
      "95% for for Inclass: (76.83767633789478, 80.25729282877188)\n"
     ]
    }
   ],
   "source": [
    "    online_se, inclass_se = dataset.get_se_of_outcomes_by_treatment()\n",
    "    online_ci, inclass_ci = dataset.get_ci_of_outcomes_by_treatment()\n",
    "    print(\"95% CI for Online:\", online_ci)\n",
    "    print(\"95% for for Inclass:\", inclass_ci)"
   ]
  },
  {
   "cell_type": "markdown",
   "id": "9593ca75-e7d8-48af-a4d2-5c3dd3d88f2f",
   "metadata": {},
   "source": [
    "### Note that variance get larger when you compute ATE!\n",
    "\n",
    "\\begin{align*}\n",
    "\\large\n",
    "\\mathcal{N}(\\mu_1, \\sigma_1^2) \\pm \\mathcal{N}(\\mu_2, \\sigma_2^2) = \\mathcal{N}(\\mu_1\\pm\\mu_2, \\sigma_1^2+\\sigma_2^2)\n",
    "\\end{align*}\n",
    "ATE confidence interval gorws as well."
   ]
  },
  {
   "cell_type": "code",
   "execution_count": 29,
   "id": "7c357faa-7954-437d-baf2-d7d305b9d211",
   "metadata": {},
   "outputs": [
    {
     "name": "stdout",
     "output_type": "stream",
     "text": [
      "95% for for ATE: (-8.376410208363385, -1.4480327880905253)\n"
     ]
    }
   ],
   "source": [
    "    ate_ci, _ = dataset.get_ci_of_average_treatment_effect()\n",
    "    print(\"95% for for ATE:\", ate_ci)"
   ]
  },
  {
   "cell_type": "markdown",
   "id": "1eb7b12b-4597-4efb-acee-b61e45e6f5e6",
   "metadata": {},
   "source": [
    "### The upper confidence interval is still negative!"
   ]
  },
  {
   "cell_type": "code",
   "execution_count": null,
   "id": "25600dee-6f54-45e1-b172-e4f49b5e1784",
   "metadata": {},
   "outputs": [],
   "source": []
  }
 ],
 "metadata": {
  "kernelspec": {
   "display_name": "Python 3 (ipykernel)",
   "language": "python",
   "name": "python3"
  },
  "language_info": {
   "codemirror_mode": {
    "name": "ipython",
    "version": 3
   },
   "file_extension": ".py",
   "mimetype": "text/x-python",
   "name": "python",
   "nbconvert_exporter": "python",
   "pygments_lexer": "ipython3",
   "version": "3.10.0"
  }
 },
 "nbformat": 4,
 "nbformat_minor": 5
}
